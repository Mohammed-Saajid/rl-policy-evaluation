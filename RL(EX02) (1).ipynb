{
 "nbformat": 4,
 "nbformat_minor": 0,
 "metadata": {
  "colab": {
   "provenance": []
  },
  "kernelspec": {
   "name": "python3",
   "display_name": "Python 3"
  },
  "language_info": {
   "name": "python"
  }
 },
 "cells": [
  {
   "cell_type": "code",
   "execution_count": null,
   "metadata": {
    "id": "QF17h6ye7MO6",
    "colab": {
     "base_uri": "https://localhost:8080/"
    },
    "outputId": "34dad4a9-a720-45dd-a11d-37c30805e710"
   },
   "outputs": [
    {
     "output_type": "stream",
     "name": "stdout",
     "text": [
      "Collecting gym-walk\n",
      "  Cloning https://github.com/mimoralea/gym-walk to /tmp/pip-install-pdvpqwop/gym-walk_a92f47d81f254b08bb2eb79383d369bb\n",
      "  Running command git clone --filter=blob:none --quiet https://github.com/mimoralea/gym-walk /tmp/pip-install-pdvpqwop/gym-walk_a92f47d81f254b08bb2eb79383d369bb\n",
      "  Resolved https://github.com/mimoralea/gym-walk to commit b915b94cf2ad16f8833a1ad92ea94e88159279f5\n",
      "  Preparing metadata (setup.py) ... \u001b[?25l\u001b[?25hdone\n",
      "Requirement already satisfied: gym in /usr/local/lib/python3.11/dist-packages (from gym-walk) (0.25.2)\n",
      "Requirement already satisfied: numpy>=1.18.0 in /usr/local/lib/python3.11/dist-packages (from gym->gym-walk) (1.26.4)\n",
      "Requirement already satisfied: cloudpickle>=1.2.0 in /usr/local/lib/python3.11/dist-packages (from gym->gym-walk) (3.1.1)\n",
      "Requirement already satisfied: gym_notices>=0.0.4 in /usr/local/lib/python3.11/dist-packages (from gym->gym-walk) (0.0.8)\n",
      "Building wheels for collected packages: gym-walk\n",
      "  Building wheel for gym-walk (setup.py) ... \u001b[?25l\u001b[?25hdone\n",
      "  Created wheel for gym-walk: filename=gym_walk-0.0.2-py3-none-any.whl size=5377 sha256=d033d286ced0d974870ce7ff5e37e404b0668d4e73f2ab648c02e47539a7f5ca\n",
      "  Stored in directory: /tmp/pip-ephem-wheel-cache-lftawei3/wheels/60/02/77/2dd9f31df8d13bc7c014725f4002e29d0fc3ced5e8ac08e1cf\n",
      "Successfully built gym-walk\n",
      "Installing collected packages: gym-walk\n",
      "Successfully installed gym-walk-0.0.2\n"
     ]
    }
   ],
   "source": [
    "pip install git+https://github.com/mimoralea/gym-walk#egg=gym-walk"
   ]
  },
  {
   "cell_type": "code",
   "source": [
    "import warnings ; warnings.filterwarnings('ignore')\n",
    "\n",
    "import gym\n",
    "import numpy as np\n",
    "\n",
    "import random\n",
    "import warnings\n",
    "\n",
    "warnings.filterwarnings('ignore', category=DeprecationWarning)\n",
    "np.set_printoptions(suppress=True)\n",
    "random.seed(123); np.random.seed(123);\n"
   ],
   "metadata": {
    "id": "Wsz1hPnG-StT"
   },
   "execution_count": null,
   "outputs": []
  },
  {
   "cell_type": "code",
   "source": [
    "\n",
    "def print_policy(pi, P, action_symbols=('<', 'v', '>', '^'), n_cols=4, title='Policy:'):\n",
    "    print(title)\n",
    "    arrs = {k:v for k,v in enumerate(action_symbols)}\n",
    "    for s in range(len(P)):\n",
    "        a = pi(s)\n",
    "        print(\"| \", end=\"\")\n",
    "        if np.all([done for action in P[s].values() for _, _, _, done in action]):\n",
    "            print(\"\".rjust(9), end=\" \")\n",
    "        else:\n",
    "            print(str(s).zfill(2), arrs[a].rjust(6), end=\" \")\n",
    "        if (s + 1) % n_cols == 0: print(\"|\")"
   ],
   "metadata": {
    "id": "J_NsSeZ7-W3M"
   },
   "execution_count": null,
   "outputs": []
  },
  {
   "cell_type": "code",
   "source": [
    "\n",
    "\n",
    "def print_state_value_function(V, P, n_cols=4, prec=3, title='State-value function:'):\n",
    "    print(title)\n",
    "    for s in range(len(P)):\n",
    "        v = V[s]\n",
    "        print(\"| \", end=\"\")\n",
    "        if np.all([done for action in P[s].values() for _, _, _, done in action]):\n",
    "            print(\"\".rjust(9), end=\" \")\n",
    "        else:\n",
    "            print(str(s).zfill(2), '{}'.format(np.round(v, prec)).rjust(6), end=\" \")\n",
    "        if (s + 1) % n_cols == 0: print(\"|\")\n"
   ],
   "metadata": {
    "id": "UOfaqIXX-a7u"
   },
   "execution_count": null,
   "outputs": []
  },
  {
   "cell_type": "code",
   "source": [
    "def probability_success(env, pi, goal_state, n_episodes=100, max_steps=200):\n",
    "    random.seed(123); np.random.seed(123) ; env.seed(123)\n",
    "    results = []\n",
    "    for _ in range(n_episodes):\n",
    "        state, done, steps = env.reset(), False, 0\n",
    "        while not done and steps < max_steps:\n",
    "            state, _, done, h = env.step(pi(state))\n",
    "            steps += 1\n",
    "        results.append(state == goal_state)\n",
    "    return np.sum(results)/len(results)"
   ],
   "metadata": {
    "id": "7wzPzYwQ-hvn"
   },
   "execution_count": null,
   "outputs": []
  },
  {
   "cell_type": "code",
   "source": [
    "def mean_return(env, pi, n_episodes=100, max_steps=200):\n",
    "    random.seed(123); np.random.seed(123) ; env.seed(123)\n",
    "    results = []\n",
    "    for _ in range(n_episodes):\n",
    "        state, done, steps = env.reset(), False, 0\n",
    "        results.append(0.0)\n",
    "        while not done and steps < max_steps:\n",
    "            state, reward, done, _ = env.step(pi(state))\n",
    "            results[-1] += reward\n",
    "            steps += 1\n",
    "    return np.mean(results)"
   ],
   "metadata": {
    "id": "OKgMOVZm-v77"
   },
   "execution_count": null,
   "outputs": []
  },
  {
   "cell_type": "code",
   "source": [
    "\n",
    "env = gym.make('FrozenLake-v1')\n",
    "P = env.env.P\n",
    "init_state = env.reset()\n",
    "goal_state = 15\n",
    "LEFT, DOWN, RIGHT, UP = range(4)"
   ],
   "metadata": {
    "id": "SlE-yNb8-36j"
   },
   "execution_count": null,
   "outputs": []
  },
  {
   "cell_type": "code",
   "source": [
    "P"
   ],
   "metadata": {
    "colab": {
     "base_uri": "https://localhost:8080/"
    },
    "id": "dwvmzrlv-9CC",
    "outputId": "0dc5fce6-4a3a-4f1b-83ab-0b9ecd60aa7a"
   },
   "execution_count": null,
   "outputs": [
    {
     "output_type": "execute_result",
     "data": {
      "text/plain": [
       "{0: {0: [(0.3333333333333333, 0, 0.0, False),\n",
       "   (0.3333333333333333, 0, 0.0, False),\n",
       "   (0.3333333333333333, 4, 0.0, False)],\n",
       "  1: [(0.3333333333333333, 0, 0.0, False),\n",
       "   (0.3333333333333333, 4, 0.0, False),\n",
       "   (0.3333333333333333, 1, 0.0, False)],\n",
       "  2: [(0.3333333333333333, 4, 0.0, False),\n",
       "   (0.3333333333333333, 1, 0.0, False),\n",
       "   (0.3333333333333333, 0, 0.0, False)],\n",
       "  3: [(0.3333333333333333, 1, 0.0, False),\n",
       "   (0.3333333333333333, 0, 0.0, False),\n",
       "   (0.3333333333333333, 0, 0.0, False)]},\n",
       " 1: {0: [(0.3333333333333333, 1, 0.0, False),\n",
       "   (0.3333333333333333, 0, 0.0, False),\n",
       "   (0.3333333333333333, 5, 0.0, True)],\n",
       "  1: [(0.3333333333333333, 0, 0.0, False),\n",
       "   (0.3333333333333333, 5, 0.0, True),\n",
       "   (0.3333333333333333, 2, 0.0, False)],\n",
       "  2: [(0.3333333333333333, 5, 0.0, True),\n",
       "   (0.3333333333333333, 2, 0.0, False),\n",
       "   (0.3333333333333333, 1, 0.0, False)],\n",
       "  3: [(0.3333333333333333, 2, 0.0, False),\n",
       "   (0.3333333333333333, 1, 0.0, False),\n",
       "   (0.3333333333333333, 0, 0.0, False)]},\n",
       " 2: {0: [(0.3333333333333333, 2, 0.0, False),\n",
       "   (0.3333333333333333, 1, 0.0, False),\n",
       "   (0.3333333333333333, 6, 0.0, False)],\n",
       "  1: [(0.3333333333333333, 1, 0.0, False),\n",
       "   (0.3333333333333333, 6, 0.0, False),\n",
       "   (0.3333333333333333, 3, 0.0, False)],\n",
       "  2: [(0.3333333333333333, 6, 0.0, False),\n",
       "   (0.3333333333333333, 3, 0.0, False),\n",
       "   (0.3333333333333333, 2, 0.0, False)],\n",
       "  3: [(0.3333333333333333, 3, 0.0, False),\n",
       "   (0.3333333333333333, 2, 0.0, False),\n",
       "   (0.3333333333333333, 1, 0.0, False)]},\n",
       " 3: {0: [(0.3333333333333333, 3, 0.0, False),\n",
       "   (0.3333333333333333, 2, 0.0, False),\n",
       "   (0.3333333333333333, 7, 0.0, True)],\n",
       "  1: [(0.3333333333333333, 2, 0.0, False),\n",
       "   (0.3333333333333333, 7, 0.0, True),\n",
       "   (0.3333333333333333, 3, 0.0, False)],\n",
       "  2: [(0.3333333333333333, 7, 0.0, True),\n",
       "   (0.3333333333333333, 3, 0.0, False),\n",
       "   (0.3333333333333333, 3, 0.0, False)],\n",
       "  3: [(0.3333333333333333, 3, 0.0, False),\n",
       "   (0.3333333333333333, 3, 0.0, False),\n",
       "   (0.3333333333333333, 2, 0.0, False)]},\n",
       " 4: {0: [(0.3333333333333333, 0, 0.0, False),\n",
       "   (0.3333333333333333, 4, 0.0, False),\n",
       "   (0.3333333333333333, 8, 0.0, False)],\n",
       "  1: [(0.3333333333333333, 4, 0.0, False),\n",
       "   (0.3333333333333333, 8, 0.0, False),\n",
       "   (0.3333333333333333, 5, 0.0, True)],\n",
       "  2: [(0.3333333333333333, 8, 0.0, False),\n",
       "   (0.3333333333333333, 5, 0.0, True),\n",
       "   (0.3333333333333333, 0, 0.0, False)],\n",
       "  3: [(0.3333333333333333, 5, 0.0, True),\n",
       "   (0.3333333333333333, 0, 0.0, False),\n",
       "   (0.3333333333333333, 4, 0.0, False)]},\n",
       " 5: {0: [(1.0, 5, 0, True)],\n",
       "  1: [(1.0, 5, 0, True)],\n",
       "  2: [(1.0, 5, 0, True)],\n",
       "  3: [(1.0, 5, 0, True)]},\n",
       " 6: {0: [(0.3333333333333333, 2, 0.0, False),\n",
       "   (0.3333333333333333, 5, 0.0, True),\n",
       "   (0.3333333333333333, 10, 0.0, False)],\n",
       "  1: [(0.3333333333333333, 5, 0.0, True),\n",
       "   (0.3333333333333333, 10, 0.0, False),\n",
       "   (0.3333333333333333, 7, 0.0, True)],\n",
       "  2: [(0.3333333333333333, 10, 0.0, False),\n",
       "   (0.3333333333333333, 7, 0.0, True),\n",
       "   (0.3333333333333333, 2, 0.0, False)],\n",
       "  3: [(0.3333333333333333, 7, 0.0, True),\n",
       "   (0.3333333333333333, 2, 0.0, False),\n",
       "   (0.3333333333333333, 5, 0.0, True)]},\n",
       " 7: {0: [(1.0, 7, 0, True)],\n",
       "  1: [(1.0, 7, 0, True)],\n",
       "  2: [(1.0, 7, 0, True)],\n",
       "  3: [(1.0, 7, 0, True)]},\n",
       " 8: {0: [(0.3333333333333333, 4, 0.0, False),\n",
       "   (0.3333333333333333, 8, 0.0, False),\n",
       "   (0.3333333333333333, 12, 0.0, True)],\n",
       "  1: [(0.3333333333333333, 8, 0.0, False),\n",
       "   (0.3333333333333333, 12, 0.0, True),\n",
       "   (0.3333333333333333, 9, 0.0, False)],\n",
       "  2: [(0.3333333333333333, 12, 0.0, True),\n",
       "   (0.3333333333333333, 9, 0.0, False),\n",
       "   (0.3333333333333333, 4, 0.0, False)],\n",
       "  3: [(0.3333333333333333, 9, 0.0, False),\n",
       "   (0.3333333333333333, 4, 0.0, False),\n",
       "   (0.3333333333333333, 8, 0.0, False)]},\n",
       " 9: {0: [(0.3333333333333333, 5, 0.0, True),\n",
       "   (0.3333333333333333, 8, 0.0, False),\n",
       "   (0.3333333333333333, 13, 0.0, False)],\n",
       "  1: [(0.3333333333333333, 8, 0.0, False),\n",
       "   (0.3333333333333333, 13, 0.0, False),\n",
       "   (0.3333333333333333, 10, 0.0, False)],\n",
       "  2: [(0.3333333333333333, 13, 0.0, False),\n",
       "   (0.3333333333333333, 10, 0.0, False),\n",
       "   (0.3333333333333333, 5, 0.0, True)],\n",
       "  3: [(0.3333333333333333, 10, 0.0, False),\n",
       "   (0.3333333333333333, 5, 0.0, True),\n",
       "   (0.3333333333333333, 8, 0.0, False)]},\n",
       " 10: {0: [(0.3333333333333333, 6, 0.0, False),\n",
       "   (0.3333333333333333, 9, 0.0, False),\n",
       "   (0.3333333333333333, 14, 0.0, False)],\n",
       "  1: [(0.3333333333333333, 9, 0.0, False),\n",
       "   (0.3333333333333333, 14, 0.0, False),\n",
       "   (0.3333333333333333, 11, 0.0, True)],\n",
       "  2: [(0.3333333333333333, 14, 0.0, False),\n",
       "   (0.3333333333333333, 11, 0.0, True),\n",
       "   (0.3333333333333333, 6, 0.0, False)],\n",
       "  3: [(0.3333333333333333, 11, 0.0, True),\n",
       "   (0.3333333333333333, 6, 0.0, False),\n",
       "   (0.3333333333333333, 9, 0.0, False)]},\n",
       " 11: {0: [(1.0, 11, 0, True)],\n",
       "  1: [(1.0, 11, 0, True)],\n",
       "  2: [(1.0, 11, 0, True)],\n",
       "  3: [(1.0, 11, 0, True)]},\n",
       " 12: {0: [(1.0, 12, 0, True)],\n",
       "  1: [(1.0, 12, 0, True)],\n",
       "  2: [(1.0, 12, 0, True)],\n",
       "  3: [(1.0, 12, 0, True)]},\n",
       " 13: {0: [(0.3333333333333333, 9, 0.0, False),\n",
       "   (0.3333333333333333, 12, 0.0, True),\n",
       "   (0.3333333333333333, 13, 0.0, False)],\n",
       "  1: [(0.3333333333333333, 12, 0.0, True),\n",
       "   (0.3333333333333333, 13, 0.0, False),\n",
       "   (0.3333333333333333, 14, 0.0, False)],\n",
       "  2: [(0.3333333333333333, 13, 0.0, False),\n",
       "   (0.3333333333333333, 14, 0.0, False),\n",
       "   (0.3333333333333333, 9, 0.0, False)],\n",
       "  3: [(0.3333333333333333, 14, 0.0, False),\n",
       "   (0.3333333333333333, 9, 0.0, False),\n",
       "   (0.3333333333333333, 12, 0.0, True)]},\n",
       " 14: {0: [(0.3333333333333333, 10, 0.0, False),\n",
       "   (0.3333333333333333, 13, 0.0, False),\n",
       "   (0.3333333333333333, 14, 0.0, False)],\n",
       "  1: [(0.3333333333333333, 13, 0.0, False),\n",
       "   (0.3333333333333333, 14, 0.0, False),\n",
       "   (0.3333333333333333, 15, 1.0, True)],\n",
       "  2: [(0.3333333333333333, 14, 0.0, False),\n",
       "   (0.3333333333333333, 15, 1.0, True),\n",
       "   (0.3333333333333333, 10, 0.0, False)],\n",
       "  3: [(0.3333333333333333, 15, 1.0, True),\n",
       "   (0.3333333333333333, 10, 0.0, False),\n",
       "   (0.3333333333333333, 13, 0.0, False)]},\n",
       " 15: {0: [(1.0, 15, 0, True)],\n",
       "  1: [(1.0, 15, 0, True)],\n",
       "  2: [(1.0, 15, 0, True)],\n",
       "  3: [(1.0, 15, 0, True)]}}"
      ]
     },
     "metadata": {},
     "execution_count": 10
    }
   ]
  },
  {
   "cell_type": "code",
   "source": [
    "\n",
    "init_state"
   ],
   "metadata": {
    "colab": {
     "base_uri": "https://localhost:8080/"
    },
    "id": "p5xX9yN1_HVF",
    "outputId": "ed5bc2d3-0d69-4ee1-8fbf-de2c3c13f5d5"
   },
   "execution_count": null,
   "outputs": [
    {
     "output_type": "execute_result",
     "data": {
      "text/plain": [
       "0"
      ]
     },
     "metadata": {},
     "execution_count": 11
    }
   ]
  },
  {
   "cell_type": "code",
   "source": [
    "\n",
    "\n",
    "state, reward, done, info = env.step(RIGHT)\n",
    "print(\"state:{0} - reward:{1} - done:{2} - info:{3}\".format(state, reward, done, info))"
   ],
   "metadata": {
    "colab": {
     "base_uri": "https://localhost:8080/"
    },
    "id": "D5Cftl3M_Kd9",
    "outputId": "4f7ba586-f417-4f3f-bb49-ee0952e05b0f"
   },
   "execution_count": null,
   "outputs": [
    {
     "output_type": "stream",
     "name": "stdout",
     "text": [
      "state:0 - reward:0.0 - done:False - info:{'prob': 0.3333333333333333}\n"
     ]
    }
   ]
  },
  {
   "cell_type": "code",
   "source": [
    "\n",
    "pi_frozenlake = lambda s: {\n",
    "    0: RIGHT,\n",
    "    1: DOWN,\n",
    "    2: RIGHT,\n",
    "    3: LEFT,\n",
    "    4: DOWN,\n",
    "    5: LEFT,\n",
    "    6: RIGHT,\n",
    "    7:LEFT,\n",
    "    8: UP,\n",
    "    9: DOWN,\n",
    "    10:LEFT,\n",
    "    11:DOWN,\n",
    "    12:RIGHT,\n",
    "    13:RIGHT,\n",
    "    14:DOWN,\n",
    "    15:LEFT #Stop\n",
    "}[s]\n",
    "print_policy(pi_frozenlake, P, action_symbols=('<', 'v', '>', '^'), n_cols=4)"
   ],
   "metadata": {
    "colab": {
     "base_uri": "https://localhost:8080/"
    },
    "id": "vgPviZQb_SZQ",
    "outputId": "5eb7dfca-375a-4c51-ab36-e191e2b47982"
   },
   "execution_count": null,
   "outputs": [
    {
     "output_type": "stream",
     "name": "stdout",
     "text": [
      "Policy:\n",
      "| 00      > | 01      v | 02      > | 03      < |\n",
      "| 04      v |           | 06      > |           |\n",
      "| 08      ^ | 09      v | 10      < |           |\n",
      "|           | 13      > | 14      v |           |\n"
     ]
    }
   ]
  },
  {
   "cell_type": "code",
   "source": [
    "\n",
    "print('Reaches goal {:.2f}%. Obtains an average undiscounted return of {:.4f}.'.format(\n",
    "    probability_success(env, pi_frozenlake, goal_state=goal_state) * 100,\n",
    "    mean_return(env, pi_frozenlake)))"
   ],
   "metadata": {
    "colab": {
     "base_uri": "https://localhost:8080/"
    },
    "id": "AD2xHYbg_Ydy",
    "outputId": "d8846ed5-b8f7-42a5-c1a7-758d65da9841"
   },
   "execution_count": null,
   "outputs": [
    {
     "output_type": "stream",
     "name": "stdout",
     "text": [
      "Reaches goal 10.00%. Obtains an average undiscounted return of 0.1000.\n"
     ]
    }
   ]
  },
  {
   "cell_type": "code",
   "source": [
    "pi_2 = lambda s: {\n",
    "    0: DOWN,\n",
    "    1: RIGHT,\n",
    "    2: RIGHT,\n",
    "    3: DOWN,\n",
    "    4: LEFT,\n",
    "    5: RIGHT,\n",
    "    6: DOWN,\n",
    "    7: LEFT,\n",
    "    8: DOWN,\n",
    "    9: RIGHT,\n",
    "    10: LEFT,\n",
    "    11: DOWN,\n",
    "    12: RIGHT,\n",
    "    13: DOWN,\n",
    "    14: RIGHT,\n",
    "    15: LEFT\n",
    "}[s]\n"
   ],
   "metadata": {
    "id": "RaJ8yPL4ZXSY"
   },
   "execution_count": null,
   "outputs": []
  },
  {
   "cell_type": "code",
   "source": [
    "# Name : Mohammed Saajid\n",
    "# Register Number : 212223240093\n",
    "print_policy(pi_2, P, action_symbols=('<', 'v', '>', '^'), n_cols=4)\n"
   ],
   "metadata": {
    "colab": {
     "base_uri": "https://localhost:8080/"
    },
    "id": "Ov23uRmLcJv5",
    "outputId": "de2f65c3-40aa-4ea9-b0d8-a6467f694ab5"
   },
   "execution_count": null,
   "outputs": [
    {
     "output_type": "stream",
     "name": "stdout",
     "text": [
      "Name: Archana k\n",
      "Register Number: 212222240011\n",
      "Policy:\n",
      "| 00      v | 01      > | 02      > | 03      v |\n",
      "| 04      < |           | 06      v |           |\n",
      "| 08      v | 09      > | 10      < |           |\n",
      "|           | 13      v | 14      > |           |\n"
     ]
    }
   ]
  },
  {
   "cell_type": "code",
   "source": [
    "print('Reaches goal {:.2f}%. Obtains an average undiscounted return of {:.4f}.'.format(\n",
    "    probability_success(env, pi_2, goal_state=goal_state) * 100,\n",
    "    mean_return(env, pi_2)))"
   ],
   "metadata": {
    "colab": {
     "base_uri": "https://localhost:8080/"
    },
    "id": "7SYUHY0QdMKP",
    "outputId": "106b96ec-4ae5-4d10-ac91-9a8536fdb18e"
   },
   "execution_count": null,
   "outputs": [
    {
     "output_type": "stream",
     "name": "stdout",
     "text": [
      "Reaches goal 6.00%. Obtains an average undiscounted return of 0.0600.\n"
     ]
    }
   ]
  },
  {
   "cell_type": "code",
   "source": [
    "success_pi2 = probability_success(env, pi_2, goal_state=goal_state) * 100\n",
    "mean_return_pi2 = mean_return(env, pi_2)\n",
    "\n",
    "print(\"\\nYour Policy Results:\")\n",
    "print(f\"Reaches goal: {success_pi2:.2f}%\")\n",
    "print(f\"Average undiscounted return: {mean_return_pi2:.4f}\")"
   ],
   "metadata": {
    "colab": {
     "base_uri": "https://localhost:8080/"
    },
    "id": "PE4khK35dkg8",
    "outputId": "513528e5-5cac-4b7d-de90-45dcbaaf4aae"
   },
   "execution_count": null,
   "outputs": [
    {
     "output_type": "stream",
     "name": "stdout",
     "text": [
      "\n",
      "Your Policy Results:\n",
      "Reaches goal: 6.00%\n",
      "Average undiscounted return: 0.0600\n"
     ]
    }
   ]
  },
  {
   "cell_type": "code",
   "source": [
    "success_pi1 = probability_success(env, pi_frozenlake, goal_state=goal_state) * 100\n",
    "mean_return_pi1 = mean_return(env, pi_frozenlake)\n",
    "\n",
    "print(\"\\nComparison of Policies:\")\n",
    "print(f\"First Policy - Success Rate: {success_pi1:.2f}%, Mean Return: {mean_return_pi1:.4f}\")\n",
    "print(f\"Your Policy  - Success Rate: {success_pi2:.2f}%, Mean Return: {mean_return_pi2:.4f}\")\n",
    "\n",
    "if success_pi1 > success_pi2:\n",
    "    print(\"\\nThe first policy is better based on success rate.\")\n",
    "elif success_pi2 > success_pi1:\n",
    "    print(\"\\nYour policy is better based on success rate.\")\n",
    "else:\n",
    "    print(\"\\nBoth policies have the same success rate.\")\n",
    "\n",
    "if mean_return_pi1 > mean_return_pi2:\n",
    "    print(\"The first policy is better based on mean return.\")\n",
    "elif mean_return_pi2 > mean_return_pi1:\n",
    "    print(\"Your policy is better based on mean return.\")\n",
    "else:\n",
    "    print(\"Both policies have the same mean return.\")"
   ],
   "metadata": {
    "colab": {
     "base_uri": "https://localhost:8080/"
    },
    "id": "pfdjc4OUdxxm",
    "outputId": "0b1dcd13-3c46-4a6f-de4c-a684bc254b79"
   },
   "execution_count": null,
   "outputs": [
    {
     "output_type": "stream",
     "name": "stdout",
     "text": [
      "\n",
      "Comparison of Policies:\n",
      "First Policy - Success Rate: 10.00%, Mean Return: 0.1000\n",
      "Your Policy  - Success Rate: 6.00%, Mean Return: 0.0600\n",
      "\n",
      "The first policy is better based on success rate.\n",
      "The first policy is better based on mean return.\n"
     ]
    }
   ]
  },
  {
   "cell_type": "code",
   "source": [
    "def policy_evaluation(pi, P, gamma=1.0, theta=1e-10):\n",
    "    V = np.zeros(len(P), dtype=np.float64)\n",
    "\n",
    "    while True:\n",
    "        delta = 0\n",
    "        for s in range(len(P)):\n",
    "            v = 0\n",
    "            a = pi(s)\n",
    "            for prob, next_state, reward, done in P[s][a]:\n",
    "                v += prob * (reward + gamma * V[next_state])\n",
    "            delta = max(delta, abs(V[s] - v))\n",
    "            V[s] = v\n",
    "\n",
    "        if delta < theta:\n",
    "            break\n",
    "\n",
    "    return V\n"
   ],
   "metadata": {
    "id": "rjnDa0gbeI4a"
   },
   "execution_count": null,
   "outputs": []
  },
  {
   "cell_type": "code",
   "source": [
    "\n",
    "\n",
    "V1 = policy_evaluation(pi_frozenlake, P,gamma=0.99)\n",
    "print_state_value_function(V1, P, n_cols=4, prec=5)"
   ],
   "metadata": {
    "colab": {
     "base_uri": "https://localhost:8080/"
    },
    "id": "6XD6PIDleM-7",
    "outputId": "c162a970-62fa-409b-b56c-0c90a28deb12"
   },
   "execution_count": null,
   "outputs": [
    {
     "output_type": "stream",
     "name": "stdout",
     "text": [
      "State-value function:\n",
      "| 00 0.11448 | 01 0.08191 | 02 0.13372 | 03 0.06586 |\n",
      "| 04 0.15053 |           | 06 0.20562 |           |\n",
      "| 08 0.30562 | 09 0.46997 | 10 0.48938 |           |\n",
      "|           | 13 0.62915 | 14 0.80739 |           |\n"
     ]
    }
   ]
  },
  {
   "cell_type": "code",
   "source": [
    "\n",
    "V2 = policy_evaluation(pi_2, P, gamma=0.99)\n",
    "\n",
    "print(\"\\nState-value function for Your Policy:\")\n",
    "print_state_value_function(V2, P, n_cols=4, prec=5)\n"
   ],
   "metadata": {
    "colab": {
     "base_uri": "https://localhost:8080/"
    },
    "id": "AYOB3Q1XeOnS",
    "outputId": "3e5b0cba-c520-407d-e2f0-b0e61f2cd9df"
   },
   "execution_count": null,
   "outputs": [
    {
     "output_type": "stream",
     "name": "stdout",
     "text": [
      "\n",
      "State-value function for Your Policy:\n",
      "State-value function:\n",
      "| 00 0.05568 | 01 0.03401 | 02 0.06904 | 03 0.03401 |\n",
      "| 04 0.07905 |           | 06 0.10617 |           |\n",
      "| 08 0.10481 | 09 0.21279 | 10 0.32173 |           |\n",
      "|           | 13 0.32309 | 14 0.65598 |           |\n"
     ]
    }
   ]
  },
  {
   "cell_type": "code",
   "source": [
    "\n",
    "if np.sum(V1 >= V2) == len(V1):\n",
    "    print(\"\\nThe first policy is the better policy.\")\n",
    "elif np.sum(V2 >= V1) == len(V2):\n",
    "    print(\"\\nYour policy is the better policy.\")\n",
    "else:\n",
    "    print(\"\\nBoth policies have their merits.\")\n"
   ],
   "metadata": {
    "colab": {
     "base_uri": "https://localhost:8080/"
    },
    "id": "aLRf-c7MeYBI",
    "outputId": "55d88b3a-cbd7-4b79-8bc8-524c8f6f62c7"
   },
   "execution_count": null,
   "outputs": [
    {
     "output_type": "stream",
     "name": "stdout",
     "text": [
      "\n",
      "The first policy is the better policy.\n"
     ]
    }
   ]
  },
  {
   "cell_type": "code",
   "source": [
    "V1>=V2"
   ],
   "metadata": {
    "colab": {
     "base_uri": "https://localhost:8080/"
    },
    "id": "r6_4CStlejP7",
    "outputId": "ecf2d3ac-100a-48d0-d089-6705981181a2"
   },
   "execution_count": null,
   "outputs": [
    {
     "output_type": "execute_result",
     "data": {
      "text/plain": [
       "array([ True,  True,  True,  True,  True,  True,  True,  True,  True,\n",
       "        True,  True,  True,  True,  True,  True,  True])"
      ]
     },
     "metadata": {},
     "execution_count": 25
    }
   ]
  },
  {
   "cell_type": "code",
   "source": [
    "\n",
    "if(np.sum(V1>=V2)==11):\n",
    "  print(\"The first policy is the better policy\")\n",
    "elif(np.sum(V2>=V1)==11):\n",
    "  print(\"The second policy is the better policy\")\n",
    "else:\n",
    "  print(\"Both policies have their merits.\")"
   ],
   "metadata": {
    "colab": {
     "base_uri": "https://localhost:8080/"
    },
    "id": "BTIQYdGwene6",
    "outputId": "8ea297f4-dcc8-44f5-e343-1c1fafd81593"
   },
   "execution_count": null,
   "outputs": [
    {
     "output_type": "stream",
     "name": "stdout",
     "text": [
      "Both policies have their merits.\n"
     ]
    }
   ]
  }
 ]
}